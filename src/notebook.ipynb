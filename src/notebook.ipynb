{
 "cells": [
  {
   "cell_type": "code",
   "execution_count": 46,
   "metadata": {
    "colab": {},
    "colab_type": "code",
    "id": "w3YsxdssqigQ"
   },
   "outputs": [],
   "source": [
    "import cvxpy as cp\n",
    "from ortools.sat.python import cp_model\n",
    "\n",
    "import pandas as pd\n",
    "import numpy as np\n",
    "import seaborn as sns\n",
    "import matplotlib.pyplot as plt\n",
    "\n",
    "sns.set()"
   ]
  },
  {
   "cell_type": "markdown",
   "metadata": {
    "colab_type": "text",
    "id": "RgS7uToAZ4yo"
   },
   "source": [
    "### LOAD DATA"
   ]
  },
  {
   "cell_type": "markdown",
   "metadata": {
    "colab_type": "text",
    "id": "cpUqYkCYu_2F"
   },
   "source": [
    "Be careful, to work more easily with array index, we decrease each number_brick index and number_saler_index by 1"
   ]
  },
  {
   "cell_type": "code",
   "execution_count": 48,
   "metadata": {
    "colab": {
     "base_uri": "https://localhost:8080/",
     "height": 51
    },
    "colab_type": "code",
    "id": "hISmDzFWYn1P",
    "outputId": "61741144-4641-47c6-ba3b-6f83795a1fdf"
   },
   "outputs": [
    {
     "name": "stdout",
     "output_type": "stream",
     "text": [
      "Brick numbers : 22\n",
      "SR numbers : 4\n"
     ]
    }
   ],
   "source": [
    "# Load distance dataset \n",
    "# Brick to SR office distances \n",
    "initial_D = pd.read_excel(\"../data/distances.xlsx\", sheet_name=\"brick-bureau\",\\\n",
    "                                        skiprows=1, usecols=\"C:F\").values\n",
    "\n",
    "# Brick to brick distances \n",
    "initial_B = pd.read_excel(\"../data/distances.xlsx\", sheet_name=\"brick-brick\",\\\n",
    "                                      skiprows=1, usecols=\"C:X\").values\n",
    "\n",
    "num_bricks = initial_D.shape[0]\n",
    "num_SR = initial_D.shape[1]\n",
    "\n",
    "print(\"Brick numbers :\", num_bricks)\n",
    "print(\"SR numbers :\", num_SR)"
   ]
  },
  {
   "cell_type": "code",
   "execution_count": 49,
   "metadata": {
    "colab": {
     "base_uri": "https://localhost:8080/",
     "height": 173
    },
    "colab_type": "code",
    "id": "P4wT-u-saaHf",
    "outputId": "deb42695-dab0-493a-f1d2-ef04d10dfb5a"
   },
   "outputs": [
    {
     "data": {
      "text/html": [
       "<div>\n",
       "<style scoped>\n",
       "    .dataframe tbody tr th:only-of-type {\n",
       "        vertical-align: middle;\n",
       "    }\n",
       "\n",
       "    .dataframe tbody tr th {\n",
       "        vertical-align: top;\n",
       "    }\n",
       "\n",
       "    .dataframe thead th {\n",
       "        text-align: right;\n",
       "    }\n",
       "</style>\n",
       "<table border=\"1\" class=\"dataframe\">\n",
       "  <thead>\n",
       "    <tr style=\"text-align: right;\">\n",
       "      <th></th>\n",
       "      <th>SR</th>\n",
       "      <th>Center-brick</th>\n",
       "      <th>Previous_Bricks</th>\n",
       "    </tr>\n",
       "  </thead>\n",
       "  <tbody>\n",
       "    <tr>\n",
       "      <td>0</td>\n",
       "      <td>1</td>\n",
       "      <td>4</td>\n",
       "      <td>[4, 5, 6, 7, 8, 15]</td>\n",
       "    </tr>\n",
       "    <tr>\n",
       "      <td>1</td>\n",
       "      <td>2</td>\n",
       "      <td>14</td>\n",
       "      <td>[10, 11, 12, 13, 14]</td>\n",
       "    </tr>\n",
       "    <tr>\n",
       "      <td>2</td>\n",
       "      <td>3</td>\n",
       "      <td>16</td>\n",
       "      <td>[9, 16, 17, 18]</td>\n",
       "    </tr>\n",
       "    <tr>\n",
       "      <td>3</td>\n",
       "      <td>4</td>\n",
       "      <td>22</td>\n",
       "      <td>[1, 2, 3, 19, 20, 21, 22]</td>\n",
       "    </tr>\n",
       "  </tbody>\n",
       "</table>\n",
       "</div>"
      ],
      "text/plain": [
       "   SR  Center-brick            Previous_Bricks\n",
       "0   1             4        [4, 5, 6, 7, 8, 15]\n",
       "1   2            14       [10, 11, 12, 13, 14]\n",
       "2   3            16            [9, 16, 17, 18]\n",
       "3   4            22  [1, 2, 3, 19, 20, 21, 22]"
      ]
     },
     "execution_count": 49,
     "metadata": {},
     "output_type": "execute_result"
    }
   ],
   "source": [
    "#Define previous structure of sales territories\n",
    "structure = pd.DataFrame(columns=[\"SR\", \"Center-brick\", \"Previous_Bricks\"])\n",
    "structure[\"SR\"] = [1, 2, 3, 4]\n",
    "structure[\"Center-brick\"] = [4,14,16,22]\n",
    "structure[\"Previous_Bricks\"] = [[4, 5, 6, 7, 8, 15],\\\n",
    "                               [10, 11, 12, 13, 14],\\\n",
    "                               [9, 16, 17, 18],\\\n",
    "                               [1, 2, 3, 19, 20, 21, 22]]\n",
    "\n",
    "# P is our assignement matrix\n",
    "P = np.zeros((num_bricks, num_SR), dtype=int)\n",
    "for j in range(num_SR):\n",
    "    bricks_of_SR_j = structure.loc[j, \"Previous_Bricks\"]\n",
    "    for i in bricks_of_SR_j:\n",
    "        P[i-1][j] = 1  # i-1 because we decrease each bricks index number by 1 \n",
    "\n",
    "structure"
   ]
  },
  {
   "cell_type": "code",
   "execution_count": 50,
   "metadata": {
    "colab": {},
    "colab_type": "code",
    "id": "rJsuKtjOb3h5"
   },
   "outputs": [],
   "source": [
    "#Define brick values : V \n",
    "initial_V = np.array([0.1609, 0.1164, 0.1026, 0.1516, 0.0939, 0.1320, 0.0687,\\\n",
    "              0.0930, 0.2116, 0.2529, 0.0868, 0.0828, 0.0975, 0.8177,\\\n",
    "              0.4115, 0.3795, 0.0710, 0.0427, 0.1043, 0.0997, 0.1698,\\\n",
    "              0.2531])"
   ]
  },
  {
   "cell_type": "markdown",
   "metadata": {
    "colab_type": "text",
    "id": "QDiuYd00aEL7"
   },
   "source": [
    "### UTILS  "
   ]
  },
  {
   "cell_type": "code",
   "execution_count": 51,
   "metadata": {
    "colab": {},
    "colab_type": "code",
    "id": "w_Dg-SLsyo6j"
   },
   "outputs": [],
   "source": [
    "def generate_problem(P, D, V, relaxation=False, new_SR=False):\n",
    "    \"\"\"\n",
    "    generate the problem for cvxpy solver \n",
    "    P : previous assignement \n",
    "    D : distance between SR office and block\n",
    "    V : value of each block\n",
    "    relaxation : use True if you want to remove binary constraint (for question 4)\n",
    "    new_SR : use True if you have a new_SR (for question 5). If true, new_SR distance \n",
    "        need to be concatenated at the right of current D matrix\n",
    "\n",
    "    return cvxpy problem \n",
    "    \"\"\"\n",
    "    num_bricks = D.shape[0]\n",
    "    num_SR = D.shape[1]\n",
    "    # VARIABLES \n",
    "    if relaxation:\n",
    "        # In relaxation Xij = % of brick i assigned to SR j \n",
    "        X = cp.Variable((num_bricks, num_SR), name=\"X\")\n",
    "        X_constraint = [X >= 0]\n",
    "    else:    \n",
    "        # Xij = 1 if brick i in assigned to SR j \n",
    "        # 0 else \n",
    "        X = cp.Variable((num_bricks, num_SR), name=\"X\", boolean=True)\n",
    "        X_constraint = []\n",
    " \n",
    "    # PARAMETERS\n",
    "    min_load = cp.Parameter(name=\"min_load\")\n",
    "    max_load = cp.Parameter(name=\"max_load\")\n",
    "    disrup_up_bound = cp.Parameter(name=\"disrup_up_bound\")\n",
    "    \n",
    "    # CONSTRAINTS\n",
    "    # Assignement : each block is assigned to one and only one SR\n",
    "    # => Sum over j Xij = 1 \n",
    "    assigment_constraint = [cp.sum(X, axis=1) == np.ones((num_bricks,))]\n",
    "\n",
    "    # Workload objective is handle as a constraint : \n",
    "    # for each Sr j, min_load <= Sum over i of  Vi * Xij  <= max_load\n",
    "    min_load = np.ones((1, num_SR)) * min_load\n",
    "    max_load = np.ones((1, num_SR)) * max_load\n",
    "    load_charge = V.reshape((1,-1)) @ X\n",
    "    workload_constraint = [load_charge >= min_load, load_charge <= max_load]\n",
    "\n",
    "    # Disruption objective is also handle as a constrant :\n",
    "    # Sum over i,j  of Vi * abs(Xij - Pij) /2 <= upper_bound\n",
    "    if not new_SR:\n",
    "        disruption = cp.sum(V.reshape((1,-1)) @ cp.abs(X - P))\n",
    "    else:\n",
    "        disruption = cp.sum(V.reshape((1,-1)) @ cp.abs(X[:,:-1] - P))\n",
    "\n",
    "    disruption_constraint = [disruption <= disrup_up_bound]\n",
    "\n",
    "    # OBJECTIVE\n",
    "    # Distance : Minimize Sum over i,j  of Dij * Xij  \n",
    "    distance = cp.sum(cp.diag(D.T @ X))\n",
    "    epsilon = 0.001\n",
    "    objective = cp.Minimize(distance + epsilon * disruption)\n",
    "\n",
    "    # PROBLEM DEFINITION\n",
    "    constraints = assigment_constraint + workload_constraint + disruption_constraint + X_constraint\n",
    "    problem = cp.Problem(objective, constraints)\n",
    "    \n",
    "    return problem"
   ]
  },
  {
   "cell_type": "code",
   "execution_count": 52,
   "metadata": {
    "colab": {},
    "colab_type": "code",
    "id": "ghOyeKb6QuyF"
   },
   "outputs": [],
   "source": [
    "def compute_distance(X,D):\n",
    "    \"\"\"\n",
    "    Return the distance each SR has to compute given affectation X\n",
    "    = dist SRj = sum over i, Dij * Xij \n",
    "    \"\"\"\n",
    "    num_SR = D.shape[1]\n",
    "    return np.array([D[:,j] @ X[:,j] for j in range(num_SR)])\n",
    "\n",
    "def compute_total_distance(X,D):\n",
    "    return np.sum(compute_distance(X,D))"
   ]
  },
  {
   "cell_type": "code",
   "execution_count": 53,
   "metadata": {
    "colab": {},
    "colab_type": "code",
    "id": "7Jaqo2kcRe4X"
   },
   "outputs": [],
   "source": [
    "def compute_workload(X,V):\n",
    "    \"\"\"\n",
    "    Return the workload of each SR j \n",
    "    = sum over i, Vi * Xij \n",
    "    \"\"\"\n",
    "    return V @ X\n",
    "\n",
    "def compute_total_workload(X,V):\n",
    "    return np.sum(compute_workload(X,V))"
   ]
  },
  {
   "cell_type": "code",
   "execution_count": 54,
   "metadata": {
    "colab": {},
    "colab_type": "code",
    "id": "bgG1TInlSbd7"
   },
   "outputs": [],
   "source": [
    "def compute_disruption(X, V, new_SR=False):\n",
    "    \"\"\"\n",
    "    Return disruption for each SR j\n",
    "    = sum over i, Vi * Abs(X-P)i,j \n",
    "    \"\"\"\n",
    "    if not new_SR:\n",
    "        return V @ np.abs(X-P)\n",
    "    else:\n",
    "        return V @ np.abs(X[:,:-1]-P)\n",
    "    \n",
    "def compute_total_disruption(X, V, new_SR=False):\n",
    "    return np.sum(compute_disruption(X, V, new_SR))"
   ]
  },
  {
   "cell_type": "code",
   "execution_count": 55,
   "metadata": {
    "colab": {},
    "colab_type": "code",
    "id": "PtZWHBEHP9Vt"
   },
   "outputs": [],
   "source": [
    "def solution_to_dataframe(X,D,V):\n",
    "    \"\"\"\n",
    "    Transform an assignement matrix X \n",
    "    into a easily understandable dataframe\n",
    "    \"\"\"\n",
    "    num_bricks = D.shape[0]\n",
    "    num_SR = D.shape[1]\n",
    "    \n",
    "    solution = pd.DataFrame(columns=[\"SR\", \"Center-brick\", \"Bricks\", \\\n",
    "                                   \"Disruption\", \"Workload\", \"Distance\"])\n",
    "    solution[[\"SR\", \"Center-brick\"]] = structure[[\"SR\", \"Center-brick\"]]\n",
    "\n",
    "    solution[\"Bricks\"] = [[] for _ in range(num_SR)]\n",
    "    for i in range(num_bricks):\n",
    "        for j in range(num_SR):\n",
    "            if X[i][j] == 1:\n",
    "                solution.loc[j, \"Bricks\"].append(i+1) # i+1 because now we get back to normal index\n",
    "\n",
    "    solution[\"Disruption\"] = compute_disruption(X,V)\n",
    "    solution[\"Workload\"] = compute_workload(X,V)\n",
    "    solution[\"Distance\"] = compute_distance(X,D)\n",
    "\n",
    "    return solution"
   ]
  },
  {
   "cell_type": "code",
   "execution_count": 56,
   "metadata": {},
   "outputs": [],
   "source": [
    "def find_all_efficient_solutions(problem, min_load, max_load, V=initial_V, \\\n",
    "                                 solver=None, epsilon = 0.001, new_SR=False):\n",
    "    \"\"\"\n",
    "    Arg :\n",
    "        problem : cvxpy problem object\n",
    "        min_load, max_load : bound for workload constraint \n",
    "        V : value matrix \n",
    "        solver : can specify a specific solver\n",
    "        epsilon : use to tune the number of efficient solution that is output\n",
    "        new_SR : true if you want to consider a new_SR \n",
    "        \n",
    "    Return all the efficient solution as a list of assignment matrix \n",
    "    \"\"\"\n",
    "    disruption_upper_bound = 1000\n",
    "    list_of_solutions = []\n",
    "    is_feasible = True\n",
    "    problem.parameters()[0].value = min_load\n",
    "    problem.parameters()[1].value = max_load\n",
    "    problem.parameters()[2].value = disruption_upper_bound\n",
    "    \n",
    "    number_solutions = 1\n",
    "    print(\"number_solutions =\", end=\" \")\n",
    "\n",
    "    while is_feasible:\n",
    "        problem.parameters()[2].value = disruption_upper_bound\n",
    "        try:  # Because it seems that some solver raise an exception when infeasible, some don't ...\n",
    "            problem.solve(solver=solver)\n",
    "            if problem.status not in [\"infeasible\", \"unbounded\"] :\n",
    "                print(number_solutions, end=\" \")\n",
    "                X = problem.variables()[0].value\n",
    "                list_of_solutions.append(X)\n",
    "                disruption_upper_bound = compute_total_disruption(X, V, new_SR) - epsilon\n",
    "            else:\n",
    "                break\n",
    "        except:\n",
    "            break\n",
    "        number_solutions += 1\n",
    "\n",
    "    print()\n",
    "    return list_of_solutions"
   ]
  },
  {
   "cell_type": "code",
   "execution_count": 154,
   "metadata": {},
   "outputs": [],
   "source": [
    "def plot_solutions(list_of_solutions, D, V=initial_V, new_SR=False):\n",
    "    \"\"\"\n",
    "    Arg\n",
    "        list_of_solutions : list of assignment matrix \n",
    "        D : distance brick - SR matrix\n",
    "        V : value of each brick\n",
    "        new_SR : true if you consider a new SR \n",
    "        \n",
    "    Plot all the solution on a 2D-figure (disruption vs distance)\n",
    "    \"\"\"\n",
    "    plot_df = pd.DataFrame(columns=[\"Disruption\", \"Distance\"])\n",
    "    plot_df[\"Disruption\"] = list(map(lambda x: compute_total_disruption(x, V, new_SR), list_of_solutions))\n",
    "    plot_df[\"Distance\"] = list(map(lambda x : compute_total_distance(x,D), list_of_solutions))\n",
    "\n",
    "    sns.scatterplot(x=\"Distance\", y=\"Disruption\", data=plot_df)"
   ]
  },
  {
   "cell_type": "markdown",
   "metadata": {},
   "source": [
    "### QUESTION 1 AND 2 "
   ]
  },
  {
   "cell_type": "code",
   "execution_count": 58,
   "metadata": {
    "colab": {
     "base_uri": "https://localhost:8080/",
     "height": 173
    },
    "colab_type": "code",
    "id": "GhRC6rTjYH8E",
    "outputId": "7d30af46-136b-41af-db59-35a4b560c0c9"
   },
   "outputs": [
    {
     "data": {
      "text/html": [
       "<div>\n",
       "<style scoped>\n",
       "    .dataframe tbody tr th:only-of-type {\n",
       "        vertical-align: middle;\n",
       "    }\n",
       "\n",
       "    .dataframe tbody tr th {\n",
       "        vertical-align: top;\n",
       "    }\n",
       "\n",
       "    .dataframe thead th {\n",
       "        text-align: right;\n",
       "    }\n",
       "</style>\n",
       "<table border=\"1\" class=\"dataframe\">\n",
       "  <thead>\n",
       "    <tr style=\"text-align: right;\">\n",
       "      <th></th>\n",
       "      <th>SR</th>\n",
       "      <th>Center-brick</th>\n",
       "      <th>Bricks</th>\n",
       "      <th>Disruption</th>\n",
       "      <th>Workload</th>\n",
       "      <th>Distance</th>\n",
       "    </tr>\n",
       "  </thead>\n",
       "  <tbody>\n",
       "    <tr>\n",
       "      <td>0</td>\n",
       "      <td>1</td>\n",
       "      <td>4</td>\n",
       "      <td>[4, 5, 6, 7, 8, 15]</td>\n",
       "      <td>0.0</td>\n",
       "      <td>0.9507</td>\n",
       "      <td>19.30</td>\n",
       "    </tr>\n",
       "    <tr>\n",
       "      <td>1</td>\n",
       "      <td>2</td>\n",
       "      <td>14</td>\n",
       "      <td>[10, 11, 12, 13, 14]</td>\n",
       "      <td>0.0</td>\n",
       "      <td>1.3377</td>\n",
       "      <td>33.32</td>\n",
       "    </tr>\n",
       "    <tr>\n",
       "      <td>2</td>\n",
       "      <td>3</td>\n",
       "      <td>16</td>\n",
       "      <td>[9, 16, 17, 18]</td>\n",
       "      <td>0.0</td>\n",
       "      <td>0.7048</td>\n",
       "      <td>10.05</td>\n",
       "    </tr>\n",
       "    <tr>\n",
       "      <td>3</td>\n",
       "      <td>4</td>\n",
       "      <td>22</td>\n",
       "      <td>[1, 2, 3, 19, 20, 21, 22]</td>\n",
       "      <td>0.0</td>\n",
       "      <td>1.0068</td>\n",
       "      <td>124.74</td>\n",
       "    </tr>\n",
       "  </tbody>\n",
       "</table>\n",
       "</div>"
      ],
      "text/plain": [
       "   SR  Center-brick                     Bricks  Disruption  Workload  Distance\n",
       "0   1             4        [4, 5, 6, 7, 8, 15]         0.0    0.9507     19.30\n",
       "1   2            14       [10, 11, 12, 13, 14]         0.0    1.3377     33.32\n",
       "2   3            16            [9, 16, 17, 18]         0.0    0.7048     10.05\n",
       "3   4            22  [1, 2, 3, 19, 20, 21, 22]         0.0    1.0068    124.74"
      ]
     },
     "execution_count": 58,
     "metadata": {},
     "output_type": "execute_result"
    }
   ],
   "source": [
    "# Print the initial solution\n",
    "# We note that the workload constraint is not okay for the initial solution \n",
    "solution_to_dataframe(P, initial_D, initial_V)"
   ]
  },
  {
   "cell_type": "code",
   "execution_count": 59,
   "metadata": {},
   "outputs": [],
   "source": [
    "problem = generate_problem(P, initial_D, initial_V)"
   ]
  },
  {
   "cell_type": "code",
   "execution_count": 60,
   "metadata": {},
   "outputs": [
    {
     "name": "stdout",
     "output_type": "stream",
     "text": [
      "number_solutions = 1 2 3 4 5 6 7 8 9 10 11 12 13 14 15 16 17 18 19 20 \n"
     ]
    },
    {
     "data": {
      "text/html": [
       "<div>\n",
       "<style scoped>\n",
       "    .dataframe tbody tr th:only-of-type {\n",
       "        vertical-align: middle;\n",
       "    }\n",
       "\n",
       "    .dataframe tbody tr th {\n",
       "        vertical-align: top;\n",
       "    }\n",
       "\n",
       "    .dataframe thead th {\n",
       "        text-align: right;\n",
       "    }\n",
       "</style>\n",
       "<table border=\"1\" class=\"dataframe\">\n",
       "  <thead>\n",
       "    <tr style=\"text-align: right;\">\n",
       "      <th></th>\n",
       "      <th>SR</th>\n",
       "      <th>Center-brick</th>\n",
       "      <th>Bricks</th>\n",
       "      <th>Disruption</th>\n",
       "      <th>Workload</th>\n",
       "      <th>Distance</th>\n",
       "    </tr>\n",
       "  </thead>\n",
       "  <tbody>\n",
       "    <tr>\n",
       "      <td>0</td>\n",
       "      <td>1</td>\n",
       "      <td>4</td>\n",
       "      <td>[4, 5, 6, 7, 8, 9, 12, 19, 20]</td>\n",
       "      <td>0.9099</td>\n",
       "      <td>1.0376</td>\n",
       "      <td>64.37</td>\n",
       "    </tr>\n",
       "    <tr>\n",
       "      <td>1</td>\n",
       "      <td>2</td>\n",
       "      <td>14</td>\n",
       "      <td>[11, 13, 14, 18]</td>\n",
       "      <td>0.3784</td>\n",
       "      <td>1.0447</td>\n",
       "      <td>7.53</td>\n",
       "    </tr>\n",
       "    <tr>\n",
       "      <td>2</td>\n",
       "      <td>3</td>\n",
       "      <td>16</td>\n",
       "      <td>[10, 15, 16, 17]</td>\n",
       "      <td>0.9187</td>\n",
       "      <td>1.1149</td>\n",
       "      <td>6.57</td>\n",
       "    </tr>\n",
       "    <tr>\n",
       "      <td>3</td>\n",
       "      <td>4</td>\n",
       "      <td>22</td>\n",
       "      <td>[1, 2, 3, 21, 22]</td>\n",
       "      <td>0.2040</td>\n",
       "      <td>0.8028</td>\n",
       "      <td>76.13</td>\n",
       "    </tr>\n",
       "  </tbody>\n",
       "</table>\n",
       "</div>"
      ],
      "text/plain": [
       "   SR  Center-brick                          Bricks  Disruption  Workload  \\\n",
       "0   1             4  [4, 5, 6, 7, 8, 9, 12, 19, 20]      0.9099    1.0376   \n",
       "1   2            14                [11, 13, 14, 18]      0.3784    1.0447   \n",
       "2   3            16                [10, 15, 16, 17]      0.9187    1.1149   \n",
       "3   4            22               [1, 2, 3, 21, 22]      0.2040    0.8028   \n",
       "\n",
       "   Distance  \n",
       "0     64.37  \n",
       "1      7.53  \n",
       "2      6.57  \n",
       "3     76.13  "
      ]
     },
     "execution_count": 60,
     "metadata": {},
     "output_type": "execute_result"
    }
   ],
   "source": [
    "list_of_solutions_Q1 = find_all_efficient_solutions(problem, solver=cp.GLPK_MI,min_load=0.8, max_load=1.2)\n",
    "list_of_dataframes = list(map(lambda x: solution_to_dataframe(x,initial_D,initial_V), list_of_solutions_Q1))\n",
    "list_of_dataframes[0]"
   ]
  },
  {
   "cell_type": "markdown",
   "metadata": {},
   "source": [
    "Plot the solutions : orange dot = current assignment"
   ]
  },
  {
   "cell_type": "code",
   "execution_count": 61,
   "metadata": {},
   "outputs": [
    {
     "data": {
      "text/plain": [
       "<matplotlib.legend.Legend at 0x1a27bbeb10>"
      ]
     },
     "execution_count": 61,
     "metadata": {},
     "output_type": "execute_result"
    },
    {
     "data": {
      "image/png": "[encoded data removed]",
      "text/plain": [
       "<Figure size 432x288 with 1 Axes>"
      ]
     },
     "metadata": {},
     "output_type": "display_data"
    }
   ],
   "source": [
    "plot_solutions(list_of_solutions_Q1, initial_D)\n",
    "sns.scatterplot([compute_total_distance(P,initial_D)], [compute_total_disruption(P,initial_V)])\n",
    "plt.legend([\"new assignement\", \"initial assignement\"])\n"
   ]
  },
  {
   "cell_type": "markdown",
   "metadata": {},
   "source": [
    "QUESTION 3"
   ]
  },
  {
   "cell_type": "code",
   "execution_count": 65,
   "metadata": {},
   "outputs": [
    {
     "name": "stdout",
     "output_type": "stream",
     "text": [
      "number_solutions = 1 2 3 4 5 6 7 8 9 10 11 12 13 14 15 16 17 18 19 20 \n",
      "number_solutions = 1 2 3 4 5 6 7 8 9 10 11 12 13 14 15 16 17 18 19 \n",
      "number_solutions = 1 2 3 4 5 6 7 8 9 10 11 12 \n",
      "number_solutions = 1 2 3 4 5 6 7 8 9 10 11 \n",
      "number_solutions = 1 2 3 4 5 6 7 8 9 10 \n"
     ]
    },
    {
     "data": {
      "image/png": "[encoded data removed]",
      "text/plain": [
       "<Figure size 432x288 with 1 Axes>"
      ]
     },
     "metadata": {},
     "output_type": "display_data"
    }
   ],
   "source": [
    "nb_step = 5\n",
    "min_workload = np.linspace(0.8, 0.9, nb_step).round(3)\n",
    "max_workload = np.linspace(1.2, 1.1, nb_step).round(3)\n",
    "list_of_legend = [str(min_workload[i]) + \" - \" + str(max_workload[i]) \\\n",
    "                  for i in range(nb_step)]\n",
    "list_of_list_solutions = []\n",
    "for i in range(nb_step):\n",
    "    list_of_solutions = find_all_efficient_solutions(problem, min_load=min_workload[i],\\\n",
    "                                                     max_load=max_workload[i])\n",
    "    list_of_list_solutions.append(list_of_solutions)\n",
    "    plot_solutions(list_of_solutions, initial_D)\n",
    "    plt.legend(list_of_legend, title=\"min-max workload\")"
   ]
  },
  {
   "cell_type": "markdown",
   "metadata": {},
   "source": [
    "QUESTION 4"
   ]
  },
  {
   "cell_type": "code",
   "execution_count": 63,
   "metadata": {},
   "outputs": [],
   "source": [
    "relaxed_problem = generate_problem(P,initial_D,initial_V, relaxation=True)"
   ]
  },
  {
   "cell_type": "code",
   "execution_count": 64,
   "metadata": {},
   "outputs": [
    {
     "name": "stdout",
     "output_type": "stream",
     "text": [
      "number_solutions = 1 2 3 4 5 6 7 8 9 10 11 12 13 14 15 16 17 18 19 20 21 22 23 24 25 26 27 28 29 30 31 32 33 34 35 36 37 38 39 40 41 42 43 44 45 46 47 48 49 50 51 52 53 54 55 56 57 58 59 60 \n"
     ]
    }
   ],
   "source": [
    "list_of_relax_solutions = find_all_efficient_solutions(relaxed_problem, min_load=0.8,\\\n",
    "                                                 max_load=1.2, solver=cp.GLPK, epsilon=0.05)\n",
    "# NEED TO TAKE AN OTHER SOLVER "
   ]
  },
  {
   "cell_type": "code",
   "execution_count": 24,
   "metadata": {},
   "outputs": [
    {
     "data": {
      "text/plain": [
       "<matplotlib.legend.Legend at 0x1a25aabdd0>"
      ]
     },
     "execution_count": 24,
     "metadata": {},
     "output_type": "execute_result"
    },
    {
     "data": {
      "image/png": "[encoded data removed]",
      "text/plain": [
       "<Figure size 432x288 with 1 Axes>"
      ]
     },
     "metadata": {
      "needs_background": "light"
     },
     "output_type": "display_data"
    }
   ],
   "source": [
    "plot_solutions(list_of_relax_solutions, initial_D) # list of efficient solutions without binary constraint\n",
    "plot_solutions(list_of_solutions, initial_D) # list of efficient solutions with binary constraint\n",
    "plt.legend([\"relaxed constraints\", \"binary constraints\"])"
   ]
  },
  {
   "cell_type": "markdown",
   "metadata": {},
   "source": [
    "### Question 5) \n",
    "On this approach, we will : \n",
    "- find all efficient solutions for each possible location of the new SR\n",
    "- from this list of list of solutions, retrieve only the efficient solutions of the global problem"
   ]
  },
  {
   "cell_type": "code",
   "execution_count": 66,
   "metadata": {},
   "outputs": [],
   "source": [
    "new_V = 1.2 * initial_V"
   ]
  },
  {
   "cell_type": "code",
   "execution_count": 67,
   "metadata": {},
   "outputs": [],
   "source": [
    "# So we can use the previous function \"generate_model\", we just have\n",
    "# to pass to the function the new distance block _ SR pos matrix \n",
    "# We will generate a new D matrix for each possible position of new SR \n",
    "def generate_new_D(i):\n",
    "    \"\"\"\n",
    "    Suppose the location of new SR is brick i\n",
    "    return the new distance matrix \n",
    "    \"\"\"\n",
    "    return np.concatenate([initial_D, initial_B[:,i].reshape(-1,1)], axis=1)    "
   ]
  },
  {
   "cell_type": "code",
   "execution_count": 68,
   "metadata": {},
   "outputs": [
    {
     "name": "stdout",
     "output_type": "stream",
     "text": [
      "If new_SR is located on brick n_ 0\n",
      "number_solutions = 1 2 3 4 5 6 7 8 9 10 11 12 13 14 15 \n",
      "If new_SR is located on brick n_ 1\n",
      "number_solutions = 1 2 3 4 5 6 7 8 9 10 11 12 13 14 15 16 \n",
      "If new_SR is located on brick n_ 2\n",
      "number_solutions = 1 2 3 4 5 6 7 8 9 10 11 12 13 14 15 16 17 18 19 20 21 22 \n",
      "If new_SR is located on brick n_ 3\n",
      "number_solutions = 1 2 3 4 5 6 7 8 9 10 11 12 13 14 15 16 \n",
      "If new_SR is located on brick n_ 4\n",
      "number_solutions = 1 2 3 4 5 6 7 8 9 10 11 12 13 14 15 16 17 18 19 20 21 \n",
      "If new_SR is located on brick n_ 5\n",
      "number_solutions = 1 2 3 4 5 6 7 8 9 10 11 12 13 14 15 16 17 18 19 20 \n",
      "If new_SR is located on brick n_ 6\n",
      "number_solutions = 1 2 3 4 5 6 7 8 9 10 11 \n",
      "If new_SR is located on brick n_ 7\n",
      "number_solutions = 1 2 3 4 5 6 7 8 9 10 11 12 13 14 15 16 17 18 19 20 21 \n",
      "If new_SR is located on brick n_ 8\n",
      "number_solutions = 1 2 3 4 5 6 7 8 9 10 11 12 13 14 \n",
      "If new_SR is located on brick n_ 9\n",
      "number_solutions = 1 2 3 4 5 6 \n",
      "If new_SR is located on brick n_ 10\n",
      "number_solutions = 1 2 3 4 5 6 \n",
      "If new_SR is located on brick n_ 11\n",
      "number_solutions = 1 2 3 4 5 6 7 8 9 10 11 12 13 14 15 16 17 18 19 20 21 22 \n",
      "If new_SR is located on brick n_ 12\n",
      "number_solutions = 1 2 3 4 5 6 7 8 9 10 11 12 13 \n",
      "If new_SR is located on brick n_ 13\n",
      "number_solutions = 1 2 3 4 5 6 7 8 9 10 11 12 13 14 15 16 17 18 19 20 \n",
      "If new_SR is located on brick n_ 14\n",
      "number_solutions = 1 2 3 4 5 6 7 \n",
      "If new_SR is located on brick n_ 15\n",
      "number_solutions = 1 2 3 4 5 6 7 8 9 10 11 12 \n",
      "If new_SR is located on brick n_ 16\n",
      "number_solutions = 1 2 3 4 5 6 7 8 9 10 11 12 13 14 \n",
      "If new_SR is located on brick n_ 17\n",
      "number_solutions = 1 2 3 4 5 6 7 8 9 10 \n",
      "If new_SR is located on brick n_ 18\n",
      "number_solutions = 1 2 3 4 5 6 7 8 9 10 11 12 13 14 \n",
      "If new_SR is located on brick n_ 19\n",
      "number_solutions = 1 2 3 4 5 6 7 8 9 10 11 12 13 14 15 \n",
      "If new_SR is located on brick n_ 20\n",
      "number_solutions = 1 2 3 4 5 6 7 8 9 10 11 12 13 \n",
      "If new_SR is located on brick n_ 21\n",
      "number_solutions = 1 2 3 4 5 6 7 8 9 10 11 12 13 14 15 16 17 18 19 20 21 22 23 24 \n"
     ]
    }
   ],
   "source": [
    "# Compute and store solutions for each new_SR position in all_solutions\n",
    "# So all_position is a list of tupple (list_of_solution when new SR is in brick i, brick)\n",
    "all_solutions = []\n",
    "for i in range(num_bricks):\n",
    "    print(\"If new_SR is located on brick n_\",i)\n",
    "    p_i = generate_problem(P, generate_new_D(i), new_V, new_SR=True)\n",
    "    s_i = find_all_efficient_solutions(p_i, solver=cp.GLPK_MI,min_load=0.8, max_load=1.2,\\\n",
    "                                       V=new_V, new_SR=True, epsilon = 0.05)\n",
    "    all_solutions.append((s_i, i))"
   ]
  },
  {
   "cell_type": "code",
   "execution_count": 69,
   "metadata": {},
   "outputs": [
    {
     "data": {
      "image/png": "[encoded data removed]",
      "text/plain": [
       "<Figure size 432x288 with 1 Axes>"
      ]
     },
     "metadata": {},
     "output_type": "display_data"
    }
   ],
   "source": [
    "for i in range(num_bricks):\n",
    "    plot_solutions(all_solutions[i][0],generate_new_D(i),new_V,new_SR=True)"
   ]
  },
  {
   "cell_type": "code",
   "execution_count": 70,
   "metadata": {},
   "outputs": [],
   "source": [
    "def is_more_efficient(s1, s2, V):\n",
    "    \"\"\"\n",
    "    return true if solution1 is more efficient than solution2\n",
    "    meaning that disruption(solution1) <= disruption(solution2) and distance(solution1) <= distance(solution2)\n",
    "    \"\"\"\n",
    "    sol1, loc1 = s1\n",
    "    sol2, loc2 = s2\n",
    "    D1 = generate_new_D(loc1)\n",
    "    D2 = generate_new_D(loc2)\n",
    "    return (compute_total_disruption(sol1, V, new_SR=True) < compute_total_disruption(sol2, V, new_SR=True))\\\n",
    "           and (compute_total_distance(sol1, D1) < compute_total_distance(sol2, D2))"
   ]
  },
  {
   "cell_type": "code",
   "execution_count": 71,
   "metadata": {},
   "outputs": [],
   "source": [
    "def is_efficient(list_of_sol, sol, V):\n",
    "    \"\"\"\n",
    "    return true if sol is efficient considering list_of_sol\n",
    "    \"\"\"\n",
    "    for other_sol in list_of_sol:\n",
    "        if other_sol[1] != sol[1]:\n",
    "            if is_more_efficient(other_sol, sol, V):\n",
    "                return False\n",
    "    return True"
   ]
  },
  {
   "cell_type": "code",
   "execution_count": 72,
   "metadata": {},
   "outputs": [],
   "source": [
    "# We flatten the all_solutions list to obtain a list of tupple\n",
    "# (solutions, corresponding position of new SR)\n",
    "all_solutions_flatten = []\n",
    "for list_sol in all_solutions:\n",
    "    for sol in list_sol[0]:\n",
    "        all_solutions_flatten.append((sol, list_sol[1]))\n",
    "        \n",
    "# We remove all positions which are not efficient\n",
    "efficient_solutions_flatten = []\n",
    "for sol in all_solutions_flatten:\n",
    "    if is_efficient(all_solutions_flatten, sol, new_V):\n",
    "        efficient_solutions_flatten.append(sol)"
   ]
  },
  {
   "cell_type": "code",
   "execution_count": 73,
   "metadata": {},
   "outputs": [
    {
     "data": {
      "image/png": "[encoded data removed]",
      "text/plain": [
       "<Figure size 432x288 with 1 Axes>"
      ]
     },
     "metadata": {},
     "output_type": "display_data"
    }
   ],
   "source": [
    "for sol in efficient_solutions_flatten:\n",
    "    plot_solutions([sol[0]],generate_new_D(sol[1]),new_V,new_SR=True)"
   ]
  },
  {
   "cell_type": "markdown",
   "metadata": {},
   "source": [
    "### Question 6) "
   ]
  },
  {
   "cell_type": "markdown",
   "metadata": {},
   "source": [
    "New variable Wij = 1 if SR j office is located on brick i \n",
    "For each j, sum over i Wij = 1 (each SR must have one and only one office)\n",
    "\n",
    "Now new distance constant variable Bij : is the distance between brick i and brick j \n",
    "Let's call Mij, the distance between SR j office and brick i = (Sum over k of Wkj * Dik)\n",
    "Minimize \n",
    "Sum over j,i Xij * Mij "
   ]
  },
  {
   "cell_type": "code",
   "execution_count": 74,
   "metadata": {},
   "outputs": [],
   "source": [
    "prev_L = np.zeros((num_bricks, num_SR), dtype=int)\n",
    "for j in range(num_SR):\n",
    "    prev_L[structure.loc[j,\"Center-brick\"]-1, j] = 1\n",
    "    \n",
    "def num_of_office_moves(prev_L, new_L):\n",
    "    return int(np.sum(prev_L * (1 - new_L)))"
   ]
  },
  {
   "cell_type": "code",
   "execution_count": 75,
   "metadata": {},
   "outputs": [],
   "source": [
    "def generate_CPSAT_model(disrupt_bound=1000, distance_bound=1000, max_moves=4, \\\n",
    "                         min_load=0.8, max_load=1.2, minimize=False):\n",
    "    \n",
    "    model = cp_model.CpModel()\n",
    "    num_bricks = 22\n",
    "    num_SR = 4\n",
    "    \n",
    "    # We need to only have integer number to use CP-SAT\n",
    "    # Idea, we multiply by 10000\n",
    "    round_value = 10000\n",
    "    V = (initial_V * round_value).astype(int)\n",
    "    B = (initial_B * round_value).astype(int)\n",
    "\n",
    "    # VARIABLES\n",
    "    X = {}\n",
    "    for i in range(num_bricks):\n",
    "        for j in range(num_SR):\n",
    "            X[(i,j)] = model.NewBoolVar('X_%i_%i'%(i,j))\n",
    "\n",
    "    L = {}\n",
    "    for i in range(num_bricks):\n",
    "        for j in range(num_SR):\n",
    "            L[(i,j)] = model.NewBoolVar('L_%i_%i'%(i,j))\n",
    "\n",
    "    # PARAMETERS \n",
    "    min_load = int(min_load * round_value)\n",
    "    max_load = int(max_load * round_value)\n",
    "    disrup_up_bound = int(disrupt_bound * round_value)\n",
    "    distance_bound = int(distance_bound * round_value)\n",
    "\n",
    "    # CONSTRAINTS\n",
    "\n",
    "    # each SR is located at one and only one block\n",
    "    for j in range(num_SR):\n",
    "        model.Add(sum(L[i,j] for i in range(num_bricks)) == 1)\n",
    "\n",
    "    #each brick is assigned to one and only one SR \n",
    "    for i in range(num_bricks):\n",
    "        model.Add(sum(X[i,j] for j in range(num_SR)) == 1)\n",
    "\n",
    "    # disruption \n",
    "    disruption = sum((X[i,j] * (1 - P[i,j]) + P[i,j] * (1 - X[i,j])) * V[i] \\\n",
    "                  for i in range(num_bricks) \\\n",
    "                  for j in range(num_SR))\n",
    "    \n",
    "    model.Add(disruption <= disrup_up_bound)\n",
    "\n",
    "    # max moves\n",
    "    model.Add(sum(L[i,j] * (1 - prev_L[i,j]) for i in range(num_bricks)\\\n",
    "                                             for j in range(num_SR))\\\n",
    "              <= max_moves)\n",
    "                  \n",
    "    # workload \n",
    "    for j in range(num_SR):\n",
    "        model.Add(sum(X[i,j] * V[i] for i in range(num_bricks)) <= max_load)\n",
    "        model.Add(sum(X[i,j] * V[i] for i in range(num_bricks)) >= min_load)\n",
    "\n",
    "    # distance \n",
    "    # B is brick to brick distance\n",
    "    # The distance between brick i and SR j office = Sum over k Bik * Lkj \n",
    "    # Now total distance is sum over i,j (sum over k Bik * Lkj) * Xij \n",
    "    # = Sum over i,j,k  Bik * Lkj * Xij \n",
    "    # Let us note Kijk = Lkj * Xij, we must linearize this product \n",
    "    # To do so, we simply have to write the following constraint \n",
    "    #   Kijk >= Lkj + Xij - 1\n",
    "    #   Kijk <= 1/2 * (Lkj + Xij)\n",
    "    K = {}\n",
    "    for i in range(num_bricks):\n",
    "        for j in range(num_SR):\n",
    "            for k in range(num_bricks):\n",
    "                K[(i,j,k)] = model.NewBoolVar('K_%i_%i_%i'%(i,j,k))\n",
    "                model.Add(K[i,j,k] >= L[k,j] + X[i,j] - 1)\n",
    "                model.Add(2 * K[i,j,k] <= L[k,j] + X[i,j])\n",
    "\n",
    "    distance = sum(B[i,k] * K[i,j,k] for i in range(num_bricks)\\\n",
    "                                     for j in range(num_SR)\\\n",
    "                                     for k in range(num_bricks))\n",
    "    if not minimize:\n",
    "        model.Add(distance <= distance_bound)   \n",
    "    \n",
    "    elif minimize:\n",
    "        model.Minimize(round_value * distance + disruption)\n",
    "    \n",
    "    return model, X, L"
   ]
  },
  {
   "cell_type": "code",
   "execution_count": 76,
   "metadata": {},
   "outputs": [],
   "source": [
    "def convert_to_matrix(solver, X, L):\n",
    "    \"\"\"\n",
    "    Take as input X and L - CP-SAT variables\n",
    "    return corresponding numpy_array \n",
    "    \"\"\"\n",
    "    assignment_matrix = np.zeros((num_bricks, num_SR))\n",
    "    loc_matrix = np.zeros((num_bricks, num_SR))\n",
    "    for i in range(num_bricks):\n",
    "        for j in range(num_SR):\n",
    "            assignment_matrix[i][j] = solver.Value(X[i,j])\n",
    "            loc_matrix[i][j] = solver.Value(L[i,j])\n",
    "    return assignment_matrix, loc_matrix"
   ]
  },
  {
   "cell_type": "code",
   "execution_count": 85,
   "metadata": {},
   "outputs": [],
   "source": [
    "def find_multiple_solutions(max_moves, epsilon=0.1):\n",
    "    \"\"\"\n",
    "    Same technique as before to find all efficient solutions \n",
    "    Note that :\n",
    "        - we find all efficient solutions for which number of offices moves <= max_moves\n",
    "        - it is not really efficient solution because we shut down the solver before it reach\n",
    "            an optimal solution \n",
    "            \n",
    "    Return a list of solutions which contain tupple :\n",
    "        (assignment_matrix, loc_matrix, num_of_moves, distance, disruption)\n",
    "    \"\"\"\n",
    "    \n",
    "    continue_to_solve = True\n",
    "    list_solutions = []\n",
    "    solver = cp_model.CpSolver()\n",
    "    solver.parameters.max_time_in_seconds = 60\n",
    "    disrupt_bound = 1000\n",
    "    number_of_solutions = 0\n",
    "    \n",
    "\n",
    "    while continue_to_solve:\n",
    "        sat_model, X_sat_var, L_sat_var = generate_CPSAT_model(disrupt_bound=disrupt_bound,\n",
    "                                                               max_moves=max_moves, minimize=True)\n",
    "        status = solver.Solve(sat_model)\n",
    "        \n",
    "        if (status == cp_model.FEASIBLE) or (status == cp_model.OPTIMAL):\n",
    "            number_of_solutions += 1\n",
    "            new_X, new_L = convert_to_matrix(solver, X_sat_var, L_sat_var)\n",
    "            num_moves = num_of_office_moves(prev_L, new_L)\n",
    "            distance = compute_total_distance(new_X, initial_B @ new_L)\n",
    "            disruption = compute_total_disruption(new_X, initial_V)\n",
    "            is_optimal = (status == cp_model.OPTIMAL)\n",
    "            if (is_optimal):\n",
    "                txt = \"(optimal)\"\n",
    "            else:\n",
    "                txt = \"(non-optimal)\"\n",
    "            print(\"solution n°\", number_of_solutions, txt,\"num_moves :\", num_moves,\n",
    "                  \"distance :\", distance, \"disruption :\", disruption)\n",
    "            \n",
    "\n",
    "            \n",
    "            disrupt_bound = disruption - epsilon \n",
    "            list_solutions.append((new_X, new_L, num_moves, distance, disruption, is_optimal))\n",
    "        else:\n",
    "            continue_to_solve = False\n",
    "            \n",
    "    return list_solutions"
   ]
  },
  {
   "cell_type": "code",
   "execution_count": 86,
   "metadata": {},
   "outputs": [
    {
     "name": "stdout",
     "output_type": "stream",
     "text": [
      "We allow to have no more than  0 moves\n",
      "solution n° 1 (optimal) num_moves : 0 distance : 154.61522148779602 disruption : 2.411\n",
      "solution n° 2 (optimal) num_moves : 0 distance : 154.63550188861177 disruption : 2.2454\n",
      "solution n° 3 (optimal) num_moves : 0 distance : 154.9916006657822 disruption : 1.9934\n",
      "solution n° 4 (optimal) num_moves : 0 distance : 160.70696672357968 disruption : 1.794\n",
      "solution n° 5 (optimal) num_moves : 0 distance : 163.3465184773965 disruption : 1.6849999999999998\n",
      "solution n° 6 (optimal) num_moves : 0 distance : 165.89577680644427 disruption : 1.1728\n",
      "solution n° 7 (optimal) num_moves : 0 distance : 166.4335254137433 disruption : 0.9992000000000001\n",
      "solution n° 8 (optimal) num_moves : 0 distance : 168.13304090952204 disruption : 0.8620000000000001\n",
      "solution n° 9 (optimal) num_moves : 0 distance : 168.89343764710048 disruption : 0.7472000000000001\n",
      "solution n° 10 (optimal) num_moves : 0 distance : 174.60880370489798 disruption : 0.5478000000000001\n",
      "solution n° 11 (optimal) num_moves : 0 distance : 188.88630354406635 disruption : 0.3392\n",
      "We allow to have no more than  1 moves\n",
      "solution n° 1 (non-optimal) num_moves : 1 distance : 107.08961189493104 disruption : 1.5854\n",
      "solution n° 2 (optimal) num_moves : 1 distance : 115.19429991800375 disruption : 1.1026\n",
      "solution n° 3 (optimal) num_moves : 1 distance : 117.97350763477738 disruption : 0.9304000000000001\n",
      "solution n° 4 (optimal) num_moves : 1 distance : 117.9937880355931 disruption : 0.7648\n",
      "solution n° 5 (optimal) num_moves : 1 distance : 118.53153664289215 disruption : 0.5912000000000001\n",
      "solution n° 6 (optimal) num_moves : 1 distance : 120.23105213867089 disruption : 0.45400000000000007\n",
      "solution n° 7 (optimal) num_moves : 1 distance : 120.99144887624932 disruption : 0.3392\n",
      "We allow to have no more than  2 moves\n",
      "solution n° 1 (non-optimal) num_moves : 2 distance : 105.0565300068455 disruption : 2.003\n",
      "solution n° 2 (non-optimal) num_moves : 2 distance : 105.43290918483166 disruption : 1.5854\n",
      "solution n° 3 (non-optimal) num_moves : 2 distance : 112.04031845408588 disruption : 1.1026\n",
      "solution n° 4 (optimal) num_moves : 2 distance : 115.10734594246239 disruption : 0.9304000000000001\n",
      "solution n° 5 (optimal) num_moves : 2 distance : 115.61133907852162 disruption : 0.6794\n",
      "solution n° 6 (optimal) num_moves : 2 distance : 117.61634735360934 disruption : 0.5058\n",
      "solution n° 7 (optimal) num_moves : 2 distance : 118.4523529924946 disruption : 0.36060000000000003\n",
      "We allow to have no more than  3 moves\n",
      "solution n° 1 (non-optimal) num_moves : 3 distance : 108.60892749899796 disruption : 1.6068\n",
      "solution n° 2 (non-optimal) num_moves : 3 distance : 111.38267503201754 disruption : 1.1026\n",
      "solution n° 3 (non-optimal) num_moves : 3 distance : 113.92461728239243 disruption : 0.6794\n",
      "solution n° 4 (optimal) num_moves : 3 distance : 115.58619130017962 disruption : 0.36060000000000003\n",
      "We allow to have no more than  4 moves\n",
      "solution n° 1 (non-optimal) num_moves : 1 distance : 107.08961189493104 disruption : 1.5854\n",
      "solution n° 2 (non-optimal) num_moves : 3 distance : 111.38267503201754 disruption : 1.1026\n",
      "solution n° 3 (non-optimal) num_moves : 3 distance : 113.92461728239243 disruption : 0.6794\n",
      "solution n° 4 (optimal) num_moves : 4 distance : 114.74291459298301 disruption : 0.36060000000000003\n"
     ]
    }
   ],
   "source": [
    "list_of_list_solutions = []\n",
    "for i in range(5):\n",
    "    print(\"We allow to have no more than \",i, \"moves\")\n",
    "    list_solutions = find_multiple_solutions(max_moves=i, epsilon=0.1)\n",
    "    list_of_list_solutions.append(list_solutions)"
   ]
  },
  {
   "cell_type": "code",
   "execution_count": 91,
   "metadata": {},
   "outputs": [],
   "source": [
    "def convert_to_dataframe(list_of_list_solutions):\n",
    "    \"\"\"\n",
    "    Convert the list of list of solutions to a list a dataframe\n",
    "    so that it will be easy to plot the solutions \n",
    "    \"\"\"\n",
    "    list_of_dataframe = []\n",
    "    \n",
    "    for list_of_solutions in list_of_list_solutions:\n",
    "        df = pd.DataFrame(columns=[\"moves\", \"distance\", \"disruption\", \"optimal\"])\n",
    "        for i, sol in enumerate(list_of_solutions):\n",
    "            df.loc[i] = sol[2], sol[3], sol[4], sol[5]\n",
    "        list_of_dataframe.append(df)\n",
    "        \n",
    "    return list_of_dataframe"
   ]
  },
  {
   "cell_type": "code",
   "execution_count": 92,
   "metadata": {},
   "outputs": [],
   "source": [
    "list_df = convert_to_dataframe(list_of_list_solutions)"
   ]
  },
  {
   "cell_type": "code",
   "execution_count": 167,
   "metadata": {},
   "outputs": [
    {
     "data": {
      "text/plain": [
       "<matplotlib.legend.Legend at 0x1a2bb80d90>"
      ]
     },
     "execution_count": 167,
     "metadata": {},
     "output_type": "execute_result"
    },
    {
     "data": {
      "image/png": "[encoded data removed]",
      "text/plain": [
       "<Figure size 1080x360 with 1 Axes>"
      ]
     },
     "metadata": {},
     "output_type": "display_data"
    }
   ],
   "source": [
    "fig = plt.figure(1, figsize=(15, 5))\n",
    "\n",
    "list_legends = []\n",
    "for i in range(5):\n",
    "    sns.scatterplot(x=\"distance\", y=\"disruption\", data=list_df[i], s=40, marker = \"o\")\n",
    "    list_legends.append(\"max_moves = \"+str(i))\n",
    "\n",
    "\n",
    "df = list_df[0]\n",
    "for i in range(0,4):\n",
    "    df = pd.concat([df, list_df[i+1]], axis=0)\n",
    "df_opt = df[df[\"optimal\"] == True]\n",
    "df_non_opt = df[df[\"optimal\"] == False]\n",
    "sns.scatterplot(x=\"distance\", y=\"disruption\", marker = \"+\", s=50, color=\"red\", data=df_non_opt)\n",
    "list_legends.append(\"non_optimal solution\")\n",
    "plot_solutions(list_of_solutions_Q1, initial_D)\n",
    "list_legends.append(\"solutions of 1rst problem with cvxpy\")\n",
    "\n",
    "#plt.legend(list_legends, title=\"\", loc='center left', bbox_to_anchor=(1, 0.5))\n",
    "plt.legend(list_legends, title=\"\")\n"
   ]
  },
  {
   "cell_type": "code",
   "execution_count": null,
   "metadata": {},
   "outputs": [],
   "source": []
  }
 ],
 "metadata": {
  "colab": {
   "collapsed_sections": [],
   "name": "Pfizer_Project.ipynb",
   "provenance": []
  },
  "kernelspec": {
   "display_name": "Python 3",
   "language": "python",
   "name": "python3"
  },
  "language_info": {
   "codemirror_mode": {
    "name": "ipython",
    "version": 3
   },
   "file_extension": ".py",
   "mimetype": "text/x-python",
   "name": "python",
   "nbconvert_exporter": "python",
   "pygments_lexer": "ipython3",
   "version": "3.7.4"
  }
 },
 "nbformat": 4,
 "nbformat_minor": 1
}
