{
 "cells": [
  {
   "cell_type": "code",
   "execution_count": 1,
   "metadata": {
    "colab": {},
    "colab_type": "code",
    "id": "w3YsxdssqigQ"
   },
   "outputs": [],
   "source": [
    "import cvxpy as cp\n",
    "import pandas as pd\n",
    "import numpy as np\n",
    "import seaborn as sns\n",
    "import matplotlib.pyplot as plt\n",
    "\n",
    "sns.set()"
   ]
  },
  {
   "cell_type": "markdown",
   "metadata": {
    "colab_type": "text",
    "id": "RgS7uToAZ4yo"
   },
   "source": [
    "LOAD AND PREPARE THE DATA"
   ]
  },
  {
   "cell_type": "markdown",
   "metadata": {
    "colab_type": "text",
    "id": "cpUqYkCYu_2F"
   },
   "source": [
    "Be careful, to work more easily with array index, we decrease each number_brick index and number_saler_index by 1"
   ]
  },
  {
   "cell_type": "code",
   "execution_count": 2,
   "metadata": {
    "colab": {
     "base_uri": "https://localhost:8080/",
     "height": 51
    },
    "colab_type": "code",
    "id": "hISmDzFWYn1P",
    "outputId": "61741144-4641-47c6-ba3b-6f83795a1fdf"
   },
   "outputs": [
    {
     "name": "stdout",
     "output_type": "stream",
     "text": [
      "Brick numbers : 22\n",
      "SR numbers : 4\n"
     ]
    }
   ],
   "source": [
    "# Load distance dataset \n",
    "brick_desktop_distances = pd.read_excel(\"../data/distances.xlsx\", sheet_name=\"brick-bureau\",\\\n",
    "                                        skiprows=1, usecols=\"C:F\").values\n",
    "\n",
    "brick_brick_distances = pd.read_excel(\"../data/distances.xlsx\", sheet_name=\"brick-brick\",\\\n",
    "                                      skiprows=1, usecols=\"C:X\").values\n",
    "D = brick_desktop_distances  # To have the exact same notations as in our text\n",
    "\n",
    "num_bricks = brick_desktop_distances.shape[0]\n",
    "num_SR = brick_desktop_distances.shape[1]\n",
    "\n",
    "print(\"Brick numbers :\", num_bricks)\n",
    "print(\"SR numbers :\", num_SR)"
   ]
  },
  {
   "cell_type": "code",
   "execution_count": 3,
   "metadata": {
    "colab": {
     "base_uri": "https://localhost:8080/",
     "height": 173
    },
    "colab_type": "code",
    "id": "P4wT-u-saaHf",
    "outputId": "deb42695-dab0-493a-f1d2-ef04d10dfb5a"
   },
   "outputs": [
    {
     "data": {
      "text/html": [
       "<div>\n",
       "<style scoped>\n",
       "    .dataframe tbody tr th:only-of-type {\n",
       "        vertical-align: middle;\n",
       "    }\n",
       "\n",
       "    .dataframe tbody tr th {\n",
       "        vertical-align: top;\n",
       "    }\n",
       "\n",
       "    .dataframe thead th {\n",
       "        text-align: right;\n",
       "    }\n",
       "</style>\n",
       "<table border=\"1\" class=\"dataframe\">\n",
       "  <thead>\n",
       "    <tr style=\"text-align: right;\">\n",
       "      <th></th>\n",
       "      <th>SR</th>\n",
       "      <th>Center-brick</th>\n",
       "      <th>Previous_Bricks</th>\n",
       "    </tr>\n",
       "  </thead>\n",
       "  <tbody>\n",
       "    <tr>\n",
       "      <td>0</td>\n",
       "      <td>1</td>\n",
       "      <td>4</td>\n",
       "      <td>[4, 5, 6, 7, 8, 15]</td>\n",
       "    </tr>\n",
       "    <tr>\n",
       "      <td>1</td>\n",
       "      <td>2</td>\n",
       "      <td>14</td>\n",
       "      <td>[10, 11, 12, 13, 14]</td>\n",
       "    </tr>\n",
       "    <tr>\n",
       "      <td>2</td>\n",
       "      <td>3</td>\n",
       "      <td>16</td>\n",
       "      <td>[9, 16, 17, 18]</td>\n",
       "    </tr>\n",
       "    <tr>\n",
       "      <td>3</td>\n",
       "      <td>4</td>\n",
       "      <td>22</td>\n",
       "      <td>[1, 2, 3, 19, 20, 21, 22]</td>\n",
       "    </tr>\n",
       "  </tbody>\n",
       "</table>\n",
       "</div>"
      ],
      "text/plain": [
       "   SR  Center-brick            Previous_Bricks\n",
       "0   1             4        [4, 5, 6, 7, 8, 15]\n",
       "1   2            14       [10, 11, 12, 13, 14]\n",
       "2   3            16            [9, 16, 17, 18]\n",
       "3   4            22  [1, 2, 3, 19, 20, 21, 22]"
      ]
     },
     "execution_count": 3,
     "metadata": {},
     "output_type": "execute_result"
    }
   ],
   "source": [
    "#Define previous structure of sales territories\n",
    "structure = pd.DataFrame(columns=[\"SR\", \"Center-brick\", \"Previous_Bricks\"])\n",
    "structure[\"SR\"] = [1, 2, 3, 4]\n",
    "structure[\"Center-brick\"] = [4,14,16,22]\n",
    "structure[\"Previous_Bricks\"] = [[4, 5, 6, 7, 8, 15],\\\n",
    "                               [10, 11, 12, 13, 14],\\\n",
    "                               [9, 16, 17, 18],\\\n",
    "                               [1, 2, 3, 19, 20, 21, 22]]\n",
    "\n",
    "# P is our assignement matrix\n",
    "P = np.zeros((num_bricks, num_SR))\n",
    "for j in range(num_SR):\n",
    "    bricks_of_SR_j = structure.loc[j, \"Previous_Bricks\"]\n",
    "    for i in bricks_of_SR_j:\n",
    "        P[i-1][j] = 1  # i-1 because we decrease each bricks index number by 1 \n",
    "\n",
    "structure"
   ]
  },
  {
   "cell_type": "code",
   "execution_count": 4,
   "metadata": {
    "colab": {},
    "colab_type": "code",
    "id": "rJsuKtjOb3h5"
   },
   "outputs": [],
   "source": [
    "#Define brick values : V \n",
    "V = np.array([0.1609, 0.1164, 0.1026, 0.1516, 0.0939, 0.1320, 0.0687,\\\n",
    "              0.0930, 0.2116, 0.2529, 0.0868, 0.0828, 0.0975, 0.8177,\\\n",
    "              0.4115, 0.3795, 0.0710, 0.0427, 0.1043, 0.0997, 0.1698,\\\n",
    "              0.2531])"
   ]
  },
  {
   "cell_type": "markdown",
   "metadata": {
    "colab_type": "text",
    "id": "QDiuYd00aEL7"
   },
   "source": [
    "PROBLEM FORMULATION"
   ]
  },
  {
   "cell_type": "code",
   "execution_count": 27,
   "metadata": {
    "colab": {},
    "colab_type": "code",
    "id": "w_Dg-SLsyo6j"
   },
   "outputs": [],
   "source": [
    "def generate_problem(P, D, V, min_load, max_load, upper_bound=1000):\n",
    "    \"\"\"\n",
    "    generate the problem for cvxpy solver \n",
    "    P : previous assignement \n",
    "    D : distance between SR and block\n",
    "    V : value of each bleack\n",
    "    min_load, max_load : to convert workload objective into constraints\n",
    "    upper_bound : to convert disruption into constraint \n",
    "\n",
    "    return cvxpy problem and X variable\n",
    "    \"\"\"\n",
    "    # Variable we want to find X \n",
    "    # Xij = 1 if brick i in assigned to SR j \n",
    "    # 0 else \n",
    "    X = cp.Variable((num_bricks, num_SR), boolean=True)\n",
    "\n",
    "    # Assignement constraints : Sum over j Xij = 1 \n",
    "    assigment_constraint = [cp.sum(X, axis=1) == np.ones((num_bricks,))]\n",
    "\n",
    "    # Workload objective is handle as a constraint : \n",
    "    # for each Sr j, min_load <= Sum over i of  Vi * Xij  <= max_load\n",
    "    min_load = np.ones((1, num_SR)) * min_load\n",
    "    max_load = np.ones((1, num_SR)) * max_load\n",
    "    load_charge = V.reshape((1,-1)) @ X\n",
    "    workload_constraint = [load_charge >= min_load, load_charge <= max_load]\n",
    "\n",
    "    # Disruption objective : Sum over i,j  of Vi * abs(Xij - Pij) /2 \n",
    "    # For now I try to not introduce the new variable H\n",
    "    disruption = cp.sum(V.reshape((1,-1)) @ cp.abs(X - P))\n",
    "\n",
    "    # We handle disruption like a new constraint with an upper bound \n",
    "    disruption_constraint = [disruption <= upper_bound]\n",
    "\n",
    "    # Distance objective : Minimize Sum over i,j  of Dij * Xij  \n",
    "    distance = cp.sum(cp.diag(D.T @ X))\n",
    "    epsilon = 0.001\n",
    "    objective = cp.Minimize(distance + epsilon * disruption)\n",
    "\n",
    "    # Define the problem we are trying to solve\n",
    "    constraints = assigment_constraint + workload_constraint + disruption_constraint\n",
    "    problem = cp.Problem(objective, constraints)\n",
    "\n",
    "    return problem, X"
   ]
  },
  {
   "cell_type": "markdown",
   "metadata": {
    "colab_type": "text",
    "id": "sQLmPR4yNGNZ"
   },
   "source": [
    "SOME FUNCTION TO PRINT SOLUTION AND COMPUTE OJBECTIVES AND CONSTRAINTS VALUES FOR EACH SR ON SOLUTION"
   ]
  },
  {
   "cell_type": "code",
   "execution_count": 6,
   "metadata": {
    "colab": {},
    "colab_type": "code",
    "id": "ghOyeKb6QuyF"
   },
   "outputs": [],
   "source": [
    "def compute_distance(X):\n",
    "    \"\"\"\n",
    "    Return the distance each SR has to compute given affectation X\n",
    "    = dist SRj = sum over i, Dij * Xij \n",
    "    \"\"\"\n",
    "    return np.array([D[:,j] @ X[:,j] for j in range(num_SR)])\n",
    "\n",
    "def compute_total_distance(X):\n",
    "    return np.sum(compute_distance(X))"
   ]
  },
  {
   "cell_type": "code",
   "execution_count": 7,
   "metadata": {
    "colab": {},
    "colab_type": "code",
    "id": "7Jaqo2kcRe4X"
   },
   "outputs": [],
   "source": [
    "def compute_workload(X):\n",
    "    \"\"\"\n",
    "    Return the workload of each SR j \n",
    "    = sum over i, Vi * Xij \n",
    "    \"\"\"\n",
    "    return V @ X\n",
    "\n",
    "def compute_total_workload(X):\n",
    "    return np.sum(compute_workload(X))\n",
    "\n",
    "def compute_max_diff_workload(X):\n",
    "    workload = compute_workload(X)\n",
    "    return np.max(np.abs((workload - np.mean(workload))))"
   ]
  },
  {
   "cell_type": "code",
   "execution_count": 8,
   "metadata": {
    "colab": {},
    "colab_type": "code",
    "id": "bgG1TInlSbd7"
   },
   "outputs": [],
   "source": [
    "def compute_disruption(X):\n",
    "    \"\"\"\n",
    "    Return disruption for each SR j\n",
    "    = sum over i, Vi * Abs(X-P)i,j \n",
    "    \"\"\"\n",
    "    return V @ np.abs(X-P)\n",
    "\n",
    "def compute_total_disruption(X):\n",
    "    return np.sum(compute_disruption(X))"
   ]
  },
  {
   "cell_type": "code",
   "execution_count": 9,
   "metadata": {
    "colab": {},
    "colab_type": "code",
    "id": "PtZWHBEHP9Vt"
   },
   "outputs": [],
   "source": [
    "def solution_to_dataframe(X):\n",
    "    solution = pd.DataFrame(columns=[\"SR\", \"Center-brick\", \"Bricks\", \\\n",
    "                                   \"Disruption\", \"Workload\", \"Distance\"])\n",
    "    solution[[\"SR\", \"Center-brick\"]] = structure[[\"SR\", \"Center-brick\"]]\n",
    "\n",
    "    solution[\"Bricks\"] = [[] for _ in range(num_SR)]\n",
    "    for i in range(num_bricks):\n",
    "        for j in range(num_SR):\n",
    "            if X[i][j] == 1:\n",
    "                solution.loc[j, \"Bricks\"].append(i+1) # i+1 because now we get back to normal index\n",
    "\n",
    "    solution[\"Disruption\"] = compute_disruption(X)\n",
    "    solution[\"Workload\"] = compute_workload(X)\n",
    "    solution[\"Distance\"] = compute_distance(X)\n",
    "\n",
    "    return solution"
   ]
  },
  {
   "cell_type": "markdown",
   "metadata": {},
   "source": [
    "QUESTION 1 AND 2 "
   ]
  },
  {
   "cell_type": "code",
   "execution_count": 10,
   "metadata": {
    "colab": {
     "base_uri": "https://localhost:8080/",
     "height": 173
    },
    "colab_type": "code",
    "id": "GhRC6rTjYH8E",
    "outputId": "7d30af46-136b-41af-db59-35a4b560c0c9"
   },
   "outputs": [
    {
     "data": {
      "text/html": [
       "<div>\n",
       "<style scoped>\n",
       "    .dataframe tbody tr th:only-of-type {\n",
       "        vertical-align: middle;\n",
       "    }\n",
       "\n",
       "    .dataframe tbody tr th {\n",
       "        vertical-align: top;\n",
       "    }\n",
       "\n",
       "    .dataframe thead th {\n",
       "        text-align: right;\n",
       "    }\n",
       "</style>\n",
       "<table border=\"1\" class=\"dataframe\">\n",
       "  <thead>\n",
       "    <tr style=\"text-align: right;\">\n",
       "      <th></th>\n",
       "      <th>SR</th>\n",
       "      <th>Center-brick</th>\n",
       "      <th>Bricks</th>\n",
       "      <th>Disruption</th>\n",
       "      <th>Workload</th>\n",
       "      <th>Distance</th>\n",
       "    </tr>\n",
       "  </thead>\n",
       "  <tbody>\n",
       "    <tr>\n",
       "      <td>0</td>\n",
       "      <td>1</td>\n",
       "      <td>4</td>\n",
       "      <td>[4, 5, 6, 7, 8, 15]</td>\n",
       "      <td>0.0</td>\n",
       "      <td>0.9507</td>\n",
       "      <td>19.30</td>\n",
       "    </tr>\n",
       "    <tr>\n",
       "      <td>1</td>\n",
       "      <td>2</td>\n",
       "      <td>14</td>\n",
       "      <td>[10, 11, 12, 13, 14]</td>\n",
       "      <td>0.0</td>\n",
       "      <td>1.3377</td>\n",
       "      <td>33.32</td>\n",
       "    </tr>\n",
       "    <tr>\n",
       "      <td>2</td>\n",
       "      <td>3</td>\n",
       "      <td>16</td>\n",
       "      <td>[9, 16, 17, 18]</td>\n",
       "      <td>0.0</td>\n",
       "      <td>0.7048</td>\n",
       "      <td>10.05</td>\n",
       "    </tr>\n",
       "    <tr>\n",
       "      <td>3</td>\n",
       "      <td>4</td>\n",
       "      <td>22</td>\n",
       "      <td>[1, 2, 3, 19, 20, 21, 22]</td>\n",
       "      <td>0.0</td>\n",
       "      <td>1.0068</td>\n",
       "      <td>124.74</td>\n",
       "    </tr>\n",
       "  </tbody>\n",
       "</table>\n",
       "</div>"
      ],
      "text/plain": [
       "   SR  Center-brick                     Bricks  Disruption  Workload  Distance\n",
       "0   1             4        [4, 5, 6, 7, 8, 15]         0.0    0.9507     19.30\n",
       "1   2            14       [10, 11, 12, 13, 14]         0.0    1.3377     33.32\n",
       "2   3            16            [9, 16, 17, 18]         0.0    0.7048     10.05\n",
       "3   4            22  [1, 2, 3, 19, 20, 21, 22]         0.0    1.0068    124.74"
      ]
     },
     "execution_count": 10,
     "metadata": {},
     "output_type": "execute_result"
    }
   ],
   "source": [
    "# Print the initial solution\n",
    "# Note that the workload constraint is not okay for the initial solution \n",
    "solution_to_dataframe(P)"
   ]
  },
  {
   "cell_type": "code",
   "execution_count": 29,
   "metadata": {
    "colab": {
     "base_uri": "https://localhost:8080/",
     "height": 34
    },
    "colab_type": "code",
    "id": "JCMDI6212cLj",
    "outputId": "c1b49efb-ea6e-4d8b-f1df-5c463b03d3d2"
   },
   "outputs": [],
   "source": [
    "def find_all_efficient_solutions(P, D, V, min_load, max_load):\n",
    "    disruption_upper_bound = 1000\n",
    "    epsilon = 0.001\n",
    "    list_of_solutions = []\n",
    "    is_feasible = True\n",
    "\n",
    "    while is_feasible:\n",
    "        problem, X = generate_problem(P, D, V, min_load=min_load, max_load=max_load,\\\n",
    "                                      upper_bound=disruption_upper_bound)\n",
    "        try :\n",
    "            problem.solve()\n",
    "            list_of_solutions.append(X.value)\n",
    "            disruption_upper_bound = np.sum(compute_disruption(X.value)) - epsilon\n",
    "        except KeyError:\n",
    "            break\n",
    "\n",
    "    print(\"We have found :\", len(list_of_solutions), \"efficient solutions\")\n",
    "    return list_of_solutions"
   ]
  },
  {
   "cell_type": "code",
   "execution_count": 31,
   "metadata": {},
   "outputs": [
    {
     "name": "stdout",
     "output_type": "stream",
     "text": [
      "We have found : 20 efficient solutions\n"
     ]
    },
    {
     "data": {
      "text/html": [
       "<div>\n",
       "<style scoped>\n",
       "    .dataframe tbody tr th:only-of-type {\n",
       "        vertical-align: middle;\n",
       "    }\n",
       "\n",
       "    .dataframe tbody tr th {\n",
       "        vertical-align: top;\n",
       "    }\n",
       "\n",
       "    .dataframe thead th {\n",
       "        text-align: right;\n",
       "    }\n",
       "</style>\n",
       "<table border=\"1\" class=\"dataframe\">\n",
       "  <thead>\n",
       "    <tr style=\"text-align: right;\">\n",
       "      <th></th>\n",
       "      <th>SR</th>\n",
       "      <th>Center-brick</th>\n",
       "      <th>Bricks</th>\n",
       "      <th>Disruption</th>\n",
       "      <th>Workload</th>\n",
       "      <th>Distance</th>\n",
       "    </tr>\n",
       "  </thead>\n",
       "  <tbody>\n",
       "    <tr>\n",
       "      <td>0</td>\n",
       "      <td>1</td>\n",
       "      <td>4</td>\n",
       "      <td>[4, 5, 6, 7, 8, 9, 12, 19, 20]</td>\n",
       "      <td>0.9099</td>\n",
       "      <td>1.0376</td>\n",
       "      <td>64.37</td>\n",
       "    </tr>\n",
       "    <tr>\n",
       "      <td>1</td>\n",
       "      <td>2</td>\n",
       "      <td>14</td>\n",
       "      <td>[11, 13, 14, 18]</td>\n",
       "      <td>0.3784</td>\n",
       "      <td>1.0447</td>\n",
       "      <td>7.53</td>\n",
       "    </tr>\n",
       "    <tr>\n",
       "      <td>2</td>\n",
       "      <td>3</td>\n",
       "      <td>16</td>\n",
       "      <td>[10, 15, 16, 17]</td>\n",
       "      <td>0.9187</td>\n",
       "      <td>1.1149</td>\n",
       "      <td>6.57</td>\n",
       "    </tr>\n",
       "    <tr>\n",
       "      <td>3</td>\n",
       "      <td>4</td>\n",
       "      <td>22</td>\n",
       "      <td>[1, 2, 3, 21, 22]</td>\n",
       "      <td>0.2040</td>\n",
       "      <td>0.8028</td>\n",
       "      <td>76.13</td>\n",
       "    </tr>\n",
       "  </tbody>\n",
       "</table>\n",
       "</div>"
      ],
      "text/plain": [
       "   SR  Center-brick                          Bricks  Disruption  Workload  \\\n",
       "0   1             4  [4, 5, 6, 7, 8, 9, 12, 19, 20]      0.9099    1.0376   \n",
       "1   2            14                [11, 13, 14, 18]      0.3784    1.0447   \n",
       "2   3            16                [10, 15, 16, 17]      0.9187    1.1149   \n",
       "3   4            22               [1, 2, 3, 21, 22]      0.2040    0.8028   \n",
       "\n",
       "   Distance  \n",
       "0     64.37  \n",
       "1      7.53  \n",
       "2      6.57  \n",
       "3     76.13  "
      ]
     },
     "execution_count": 31,
     "metadata": {},
     "output_type": "execute_result"
    }
   ],
   "source": [
    "list_of_solutions = find_all_efficient_solutions(P,D,V, min_load=0.8, max_load=1.2)\n",
    "list_of_dataframes = list(map(solution_to_dataframe, list_of_solutions))\n",
    "list_of_dataframes[0]"
   ]
  },
  {
   "cell_type": "markdown",
   "metadata": {},
   "source": [
    "Plot the solutions = orange dot (previous solutions)"
   ]
  },
  {
   "cell_type": "code",
   "execution_count": 32,
   "metadata": {
    "colab": {
     "base_uri": "https://localhost:8080/",
     "height": 286
    },
    "colab_type": "code",
    "id": "JJH23UjYa4sd",
    "outputId": "d0d9aa25-35f8-4c86-b1ee-474ccf32fb67"
   },
   "outputs": [],
   "source": [
    "def plot_solutions(list_of_solutions):\n",
    "    plot_df = pd.DataFrame(columns=[\"Disruption\", \"Distance\", \"Max-diff workload\"])\n",
    "    plot_df[\"Disruption\"] = list(map(compute_total_disruption, list_of_solutions))\n",
    "    plot_df[\"Max-diff workload\"] = list(map(compute_max_diff_workload, list_of_solutions))\n",
    "    plot_df[\"Distance\"] = list(map(compute_total_distance, list_of_solutions))\n",
    "\n",
    "    sns.scatterplot(x=\"Distance\", y=\"Disruption\", data=plot_df)"
   ]
  },
  {
   "cell_type": "code",
   "execution_count": 33,
   "metadata": {},
   "outputs": [
    {
     "data": {
      "text/plain": [
       "<matplotlib.axes._subplots.AxesSubplot at 0x1a1c348790>"
      ]
     },
     "execution_count": 33,
     "metadata": {},
     "output_type": "execute_result"
    },
    {
     "data": {
      "image/png": "[encoded data removed]",
      "text/plain": [
       "<Figure size 432x288 with 1 Axes>"
      ]
     },
     "metadata": {
      "needs_background": "light"
     },
     "output_type": "display_data"
    }
   ],
   "source": [
    "plot_solutions(list_of_solutions)\n",
    "sns.scatterplot([compute_total_distance(P)], [compute_total_disruption(P)])"
   ]
  },
  {
   "cell_type": "markdown",
   "metadata": {},
   "source": [
    "QUESTION 3"
   ]
  },
  {
   "cell_type": "code",
   "execution_count": 36,
   "metadata": {},
   "outputs": [
    {
     "name": "stdout",
     "output_type": "stream",
     "text": [
      "We have found : 20 efficient solutions\n",
      "We have found : 12 efficient solutions\n",
      "We have found : 10 efficient solutions\n"
     ]
    },
    {
     "data": {
      "image/png": "[encoded data removed]",
      "text/plain": [
       "<Figure size 432x288 with 1 Axes>"
      ]
     },
     "metadata": {
      "needs_background": "light"
     },
     "output_type": "display_data"
    }
   ],
   "source": [
    "nb_step = 3\n",
    "min_workload = np.linspace(0.8, 0.9, nb_step)\n",
    "max_workload = np.linspace(1.2, 1.1, nb_step)\n",
    "list_of_list_solutions = []\n",
    "for i in range(nb_step):\n",
    "    list_of_solutions = find_all_efficient_solutions(P,D,V, min_load=min_workload[i], max_load=max_workload[i])\n",
    "    list_of_list_solutions.append(list_of_solutions)\n",
    "    plot_solutions(list_of_solutions)\n"
   ]
  },
  {
   "cell_type": "markdown",
   "metadata": {},
   "source": [
    "QUESTION 4"
   ]
  },
  {
   "cell_type": "code",
   "execution_count": null,
   "metadata": {},
   "outputs": [],
   "source": []
  }
 ],
 "metadata": {
  "colab": {
   "collapsed_sections": [],
   "name": "Pfizer_Project.ipynb",
   "provenance": []
  },
  "kernelspec": {
   "display_name": "Python 3",
   "language": "python",
   "name": "python3"
  },
  "language_info": {
   "codemirror_mode": {
    "name": "ipython",
    "version": 3
   },
   "file_extension": ".py",
   "mimetype": "text/x-python",
   "name": "python",
   "nbconvert_exporter": "python",
   "pygments_lexer": "ipython3",
   "version": "3.7.4"
  }
 },
 "nbformat": 4,
 "nbformat_minor": 1
}
